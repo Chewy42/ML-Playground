{
 "cells": [
  {
   "cell_type": "code",
   "execution_count": 1,
   "metadata": {},
   "outputs": [],
   "source": [
    "import numpy as np\n",
    "import torch"
   ]
  },
  {
   "cell_type": "code",
   "execution_count": 2,
   "metadata": {},
   "outputs": [],
   "source": [
    "np.random.seed(42)\n",
    "x_data = np.random.rand(100, 1)\n",
    "y_data = 2 * x_data + 1 + np.random.randn(100, 1)"
   ]
  },
  {
   "cell_type": "code",
   "execution_count": 3,
   "metadata": {},
   "outputs": [],
   "source": [
    "class LinearRegression(torch.nn.Module):\n",
    "    def __init__(self):\n",
    "        super().__init__()\n",
    "        self.linear = torch.nn.Linear(1, 1)\n",
    "\n",
    "    def forward(self, x):\n",
    "        return self.linear(x)"
   ]
  },
  {
   "cell_type": "code",
   "execution_count": 19,
   "metadata": {},
   "outputs": [
    {
     "ename": "SyntaxError",
     "evalue": "invalid decimal literal (1443205234.py, line 3)",
     "output_type": "error",
     "traceback": [
      "\u001b[0;36m  Cell \u001b[0;32mIn[19], line 3\u001b[0;36m\u001b[0m\n\u001b[0;31m    optimizer =  torch.optim.Adam(model.parameters(), lr=0.0o1)\u001b[0m\n\u001b[0m                                                           ^\u001b[0m\n\u001b[0;31mSyntaxError\u001b[0m\u001b[0;31m:\u001b[0m invalid decimal literal\n"
     ]
    }
   ],
   "source": [
    "model = LinearRegression()\n",
    "criterion = torch.nn.MSELoss()\n",
    "optimizer =  torch.optim.Adam(model.parameters(), lr=0.0o1)"
   ]
  },
  {
   "cell_type": "code",
   "execution_count": 20,
   "metadata": {},
   "outputs": [
    {
     "name": "stdout",
     "output_type": "stream",
     "text": [
      "Epoch: 0 | Loss: 0.8066\n",
      "Epoch: 1000 | Loss: 0.8066\n",
      "Epoch: 2000 | Loss: 0.8066\n",
      "Epoch: 3000 | Loss: 0.8066\n",
      "Epoch: 4000 | Loss: 0.8066\n",
      "Epoch: 5000 | Loss: 0.8066\n",
      "Epoch: 6000 | Loss: 0.8066\n",
      "Epoch: 7000 | Loss: 0.8066\n",
      "Epoch: 8000 | Loss: 0.8066\n",
      "Epoch: 9000 | Loss: 0.8066\n",
      "Epoch: 10000 | Loss: 0.8066\n",
      "Epoch: 11000 | Loss: 0.8066\n",
      "Epoch: 12000 | Loss: 0.8066\n",
      "Epoch: 13000 | Loss: 0.8066\n",
      "Epoch: 14000 | Loss: 0.8066\n",
      "Epoch: 15000 | Loss: 0.8066\n",
      "Epoch: 16000 | Loss: 0.8066\n",
      "Epoch: 17000 | Loss: 0.8066\n",
      "Epoch: 18000 | Loss: 0.8066\n",
      "Epoch: 19000 | Loss: 0.8066\n",
      "Epoch: 20000 | Loss: 0.8066\n",
      "Epoch: 21000 | Loss: 0.8066\n",
      "Epoch: 22000 | Loss: 0.8066\n",
      "Epoch: 23000 | Loss: 0.8066\n",
      "Epoch: 24000 | Loss: 0.8066\n",
      "Epoch: 25000 | Loss: 0.8066\n",
      "Epoch: 26000 | Loss: 0.8066\n",
      "Epoch: 27000 | Loss: 0.8066\n",
      "Epoch: 28000 | Loss: 0.8066\n",
      "Epoch: 29000 | Loss: 0.8066\n",
      "Epoch: 30000 | Loss: 0.8066\n",
      "Epoch: 31000 | Loss: 0.8066\n",
      "Epoch: 32000 | Loss: 0.8066\n",
      "Epoch: 33000 | Loss: 0.8066\n",
      "Epoch: 34000 | Loss: 0.8066\n",
      "Epoch: 35000 | Loss: 0.8066\n",
      "Epoch: 36000 | Loss: 0.8066\n",
      "Epoch: 37000 | Loss: 0.8066\n",
      "Epoch: 38000 | Loss: 0.8066\n",
      "Epoch: 39000 | Loss: 0.8066\n",
      "Epoch: 40000 | Loss: 0.8066\n",
      "Epoch: 41000 | Loss: 0.8066\n",
      "Epoch: 42000 | Loss: 0.8066\n",
      "Epoch: 43000 | Loss: 0.8066\n",
      "Epoch: 44000 | Loss: 0.8066\n",
      "Epoch: 45000 | Loss: 0.8066\n",
      "Epoch: 46000 | Loss: 0.8066\n",
      "Epoch: 47000 | Loss: 0.8066\n",
      "Epoch: 48000 | Loss: 0.8066\n",
      "Epoch: 49000 | Loss: 0.8066\n",
      "Epoch: 50000 | Loss: 0.8066\n",
      "Epoch: 51000 | Loss: 0.8066\n",
      "Epoch: 52000 | Loss: 0.8066\n",
      "Epoch: 53000 | Loss: 0.8066\n",
      "Epoch: 54000 | Loss: 0.8066\n",
      "Epoch: 55000 | Loss: 0.8066\n",
      "Epoch: 56000 | Loss: 0.8066\n",
      "Epoch: 57000 | Loss: 0.8066\n",
      "Epoch: 58000 | Loss: 0.8066\n",
      "Epoch: 59000 | Loss: 0.8066\n",
      "Epoch: 60000 | Loss: 0.8066\n",
      "Epoch: 61000 | Loss: 0.8066\n",
      "Epoch: 62000 | Loss: 0.8066\n",
      "Epoch: 63000 | Loss: 0.8066\n",
      "Epoch: 64000 | Loss: 0.8066\n",
      "Epoch: 65000 | Loss: 0.8066\n",
      "Epoch: 66000 | Loss: 0.8066\n",
      "Epoch: 67000 | Loss: 0.8066\n",
      "Epoch: 68000 | Loss: 0.8066\n",
      "Epoch: 69000 | Loss: 0.8066\n",
      "Epoch: 70000 | Loss: 0.8066\n",
      "Epoch: 71000 | Loss: 0.8066\n",
      "Epoch: 72000 | Loss: 0.8066\n",
      "Epoch: 73000 | Loss: 0.8066\n",
      "Epoch: 74000 | Loss: 0.8066\n",
      "Epoch: 75000 | Loss: 0.8066\n",
      "Epoch: 76000 | Loss: 0.8066\n",
      "Epoch: 77000 | Loss: 0.8066\n",
      "Epoch: 78000 | Loss: 0.8066\n",
      "Epoch: 79000 | Loss: 0.8066\n",
      "Epoch: 80000 | Loss: 0.8066\n",
      "Epoch: 81000 | Loss: 0.8066\n",
      "Epoch: 82000 | Loss: 0.8066\n",
      "Epoch: 83000 | Loss: 0.8066\n",
      "Epoch: 84000 | Loss: 0.8066\n",
      "Epoch: 85000 | Loss: 0.8066\n",
      "Epoch: 86000 | Loss: 0.8066\n",
      "Epoch: 87000 | Loss: 0.8066\n",
      "Epoch: 88000 | Loss: 0.8066\n",
      "Epoch: 89000 | Loss: 0.8066\n",
      "Epoch: 90000 | Loss: 0.8066\n",
      "Epoch: 91000 | Loss: 0.8066\n",
      "Epoch: 92000 | Loss: 0.8066\n",
      "Epoch: 93000 | Loss: 0.8066\n",
      "Epoch: 94000 | Loss: 0.8066\n",
      "Epoch: 95000 | Loss: 0.8066\n",
      "Epoch: 96000 | Loss: 0.8066\n",
      "Epoch: 97000 | Loss: 0.8066\n",
      "Epoch: 98000 | Loss: 0.8066\n",
      "Epoch: 99000 | Loss: 0.8066\n"
     ]
    }
   ],
   "source": [
    "# Training Loop (Trains the linear regression model)\n",
    "for epoch in range(100000):\n",
    "    # Forward pass\n",
    "    y_pred = model(x_data)\n",
    "    loss = criterion(y_pred, y_data)\n",
    "\n",
    "    # Backward pass\n",
    "    optimizer.zero_grad()\n",
    "    loss.backward()\n",
    "    optimizer.step()\n",
    "\n",
    "    if epoch % 1000 == 0:\n",
    "        print('Epoch: {} | Loss: {:.4f}'.format(epoch, loss.item()))"
   ]
  },
  {
   "cell_type": "code",
   "execution_count": 10,
   "metadata": {},
   "outputs": [
    {
     "name": "stdout",
     "output_type": "stream",
     "text": [
      "MSE: 0.8065845966339111\n"
     ]
    }
   ],
   "source": [
    "# Compute the model's predictions on new data\n",
    "with torch.no_grad():\n",
    "    y_pred = model(x_data)\n",
    "    loss = criterion(y_pred, y_data)\n",
    "    print(f'MSE: {loss.item()}')"
   ]
  },
  {
   "cell_type": "code",
   "execution_count": 12,
   "metadata": {},
   "outputs": [],
   "source": [
    "torch.save(model.state_dict(), 'LinearRegressionTest.pth')"
   ]
  },
  {
   "cell_type": "code",
   "execution_count": 13,
   "metadata": {},
   "outputs": [
    {
     "data": {
      "text/plain": [
       "<All keys matched successfully>"
      ]
     },
     "execution_count": 13,
     "metadata": {},
     "output_type": "execute_result"
    }
   ],
   "source": [
    "model = LinearRegression()\n",
    "model.load_state_dict(torch.load('LinearRegressionTest.pth'))"
   ]
  },
  {
   "cell_type": "code",
   "execution_count": 14,
   "metadata": {},
   "outputs": [],
   "source": [
    "with torch.no_grad():\n",
    "    y_pred = model(x_data)"
   ]
  },
  {
   "cell_type": "code",
   "execution_count": 17,
   "metadata": {},
   "outputs": [
    {
     "data": {
      "image/png": "[encoded data removed]",
      "text/plain": [
       "<Figure size 640x480 with 1 Axes>"
      ]
     },
     "metadata": {},
     "output_type": "display_data"
    }
   ],
   "source": [
    "import matplotlib.pyplot as plt\n",
    "\n",
    "# Scatter plot of the data\n",
    "plt.scatter(x_data, y_data)\n",
    "\n",
    "# Line plot of the model's predictions\n",
    "with torch.no_grad():\n",
    "    y_pred = model(x_data)\n",
    "    plt.plot(x_data, y_pred, 'r')\n",
    "\n",
    "plt.xlabel('x')\n",
    "plt.ylabel('y')\n",
    "plt.title('Linear Regression')\n",
    "plt.show()"
   ]
  },
  {
   "cell_type": "code",
   "execution_count": null,
   "metadata": {},
   "outputs": [],
   "source": []
  }
 ],
 "metadata": {
  "kernelspec": {
   "display_name": "Python 3",
   "language": "python",
   "name": "python3"
  },
  "language_info": {
   "codemirror_mode": {
    "name": "ipython",
    "version": 3
   },
   "file_extension": ".py",
   "mimetype": "text/x-python",
   "name": "python",
   "nbconvert_exporter": "python",
   "pygments_lexer": "ipython3",
   "version": "3.10.4"
  },
  "orig_nbformat": 4,
  "vscode": {
   "interpreter": {
    "hash": "3ad933181bd8a04b432d3370b9dc3b0662ad032c4dfaa4e4f1596c548f763858"
   }
  }
 },
 "nbformat": 4,
 "nbformat_minor": 2
}
